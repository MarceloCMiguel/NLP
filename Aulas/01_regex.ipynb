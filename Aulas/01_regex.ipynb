{
 "cells": [
  {
   "cell_type": "markdown",
   "metadata": {},
   "source": [
    "# Reconhecendo padrões\n",
    "\n",
    "Bibliografia:\n",
    "* Teoria: Chomsky, N, \"On Certain Formal Properties of Grammars\" INFORMATION AND CONTROL 9., 137-167 (1959) (https://somr.info/lib/Chomsky_1959.pdf)\n"
   ]
  },
  {
   "attachments": {},
   "cell_type": "markdown",
   "metadata": {},
   "source": [
    "## Exercício 1: Uma máquina de estados finitos\n",
    "\n",
    "Leia atentamente o código abaixo. Ele define uma classe que deve receber, sequencialmente, um caractere a cada chamada de `ler_caractere()`:"
   ]
  },
  {
   "cell_type": "code",
   "execution_count": null,
   "metadata": {},
   "outputs": [],
   "source": [
    "class UmaMaquinaDeEstadosSimples:\n",
    "    def __init__(self):\n",
    "        self.estado = 0\n",
    "    \n",
    "    def ler_caractere(self, caractere):\n",
    "        print(\"No estado \" + str(self.estado) + \" recebi o caractere \" + caractere)\n",
    "        if self.estado==0:\n",
    "            if caractere == 'a':\n",
    "                self.estado = 1\n",
    "            else:\n",
    "                self.estado = 0\n",
    "        \n",
    "        elif self.estado == 1:\n",
    "            if caractere == 'a':\n",
    "                self.estado = 1\n",
    "            else:\n",
    "                self.estado = 0\n",
    "        print(\"Fui para o estado \" + str(self.estado))\n",
    "\n",
    "    def finalizar(self):\n",
    "        if self.estado == 1:\n",
    "            return 'ACEITO'\n",
    "        else:\n",
    "            return 'REJEITO'"
   ]
  },
  {
   "attachments": {},
   "cell_type": "markdown",
   "metadata": {},
   "source": [
    "(a) O que será impresso na tela caso executemos a seguinte chamada:"
   ]
  },
  {
   "cell_type": "code",
   "execution_count": 1,
   "metadata": {},
   "outputs": [
    {
     "ename": "NameError",
     "evalue": "name 'UmaMaquinaDeEstadosSimples' is not defined",
     "output_type": "error",
     "traceback": [
      "\u001b[1;31m---------------------------------------------------------------------------\u001b[0m",
      "\u001b[1;31mNameError\u001b[0m                                 Traceback (most recent call last)",
      "Cell \u001b[1;32mIn[1], line 2\u001b[0m\n\u001b[0;32m      1\u001b[0m minha_string \u001b[39m=\u001b[39m \u001b[39m'\u001b[39m\u001b[39mabbaa\u001b[39m\u001b[39m'\u001b[39m\n\u001b[1;32m----> 2\u001b[0m maquina \u001b[39m=\u001b[39m UmaMaquinaDeEstadosSimples()\n\u001b[0;32m      3\u001b[0m \u001b[39mfor\u001b[39;00m n \u001b[39min\u001b[39;00m \u001b[39mrange\u001b[39m(\u001b[39mlen\u001b[39m(minha_string)):\n\u001b[0;32m      4\u001b[0m     maquina\u001b[39m.\u001b[39mler_caractere(minha_string[n])\n",
      "\u001b[1;31mNameError\u001b[0m: name 'UmaMaquinaDeEstadosSimples' is not defined"
     ]
    }
   ],
   "source": [
    "minha_string = 'abbaa'\n",
    "maquina = UmaMaquinaDeEstadosSimples()\n",
    "for n in range(len(minha_string)):\n",
    "    maquina.ler_caractere(minha_string[n])\n",
    "print(maquina.finalizar())"
   ]
  },
  {
   "attachments": {},
   "cell_type": "markdown",
   "metadata": {},
   "source": [
    "(b) Para cada valor de n, qual é o estado que a máquina de estados assume?\n",
    "\n",
    "(c) Encontre 3 strings que são rejeitadas pela máquina, e 3 strings que são aceitas pela máquina."
   ]
  },
  {
   "cell_type": "code",
   "execution_count": null,
   "metadata": {},
   "outputs": [],
   "source": [
    "class UmaMaquinaDeEstados:\n",
    "    def __init__(self):\n",
    "        self.estado = 0\n",
    "    \n",
    "    def ler_caractere(self, caractere):\n",
    "        if self.estado==0:\n",
    "            if caractere == 'a':\n",
    "                self.estado = 1\n",
    "            elif caractere == 'b':\n",
    "                self.estado = 0\n",
    "            else:\n",
    "                self.estado = 2\n",
    "        \n",
    "        elif self.estado == 1:\n",
    "            if caractere == 'a':\n",
    "                self.estado = 0\n",
    "            elif caractere == 'b':\n",
    "                self.estado = 1\n",
    "            else:\n",
    "                self.estado = 2\n",
    "\n",
    "    def finalizar(self):\n",
    "        if self.estado == 1:\n",
    "            return 'ACEITO'\n",
    "        else:\n",
    "            return 'REJEITO'"
   ]
  },
  {
   "cell_type": "code",
   "execution_count": null,
   "metadata": {},
   "outputs": [],
   "source": [
    "minha_string = 'abbaa'\n",
    "maquina = UmaMaquinaDeEstados()\n",
    "for n in range(len(minha_string)):\n",
    "    maquina.ler_caractere(minha_string[n])\n",
    "print(maquina.finalizar())"
   ]
  },
  {
   "cell_type": "markdown",
   "metadata": {},
   "source": [
    "![Diagrama de Bolha](diagrama_bolha_completar.png \"Diagrama de Bolha\")"
   ]
  },
  {
   "cell_type": "code",
   "execution_count": null,
   "metadata": {},
   "outputs": [],
   "source": [
    "class ReconhecedorDeGerundismos:\n",
    "    def __init__(self):\n",
    "        self.estado = 0\n",
    "    \n",
    "    def ler_caractere(self, caractere):\n",
    "        if self.estado==0:\n",
    "            if caractere == 'n':\n",
    "                self.estado = 1\n",
    "            else:\n",
    "                self.estado = 0\n",
    "        \n",
    "        elif self.estado==1:\n",
    "            if caractere == 'd':\n",
    "                self.estado = 2\n",
    "            else:\n",
    "                self.estado = 0\n",
    "        \n",
    "        elif self.estado==2:\n",
    "            if caractere == 'o':\n",
    "                self.estado = 3\n",
    "            else:\n",
    "                self.estado = 0\n",
    "        \n",
    "        elif self.estado==3:\n",
    "            self.estado=0\n",
    "\n",
    "    def finalizar(self):\n",
    "        if self.estado == 3:\n",
    "            return 'ACEITO'\n",
    "        else:\n",
    "            return 'REJEITO'"
   ]
  },
  {
   "cell_type": "code",
   "execution_count": null,
   "metadata": {},
   "outputs": [],
   "source": [
    "minha_string = 'tentando'\n",
    "maquina = ReconhecedorDeGerundismos()\n",
    "for n in range(len(minha_string)):\n",
    "    maquina.ler_caractere(minha_string[n])\n",
    "print(maquina.finalizar())"
   ]
  },
  {
   "cell_type": "markdown",
   "metadata": {},
   "source": [
    "* Reconhecer inteiros\n",
    "* Reconhecer inteiros pares\n",
    "* Reconhecer ponto flutuante\n",
    "* Uma palavra qualquer escrita em português\n",
    "* Reconhecer placas de carro (das antigas: três letras + 4 números)"
   ]
  },
  {
   "cell_type": "code",
   "execution_count": null,
   "metadata": {},
   "outputs": [],
   "source": [
    "import re\n",
    "\n",
    "m = re.fullmatch(r\"SP|MG|ES|RJ\", 'SP')\n",
    "print(m)"
   ]
  },
  {
   "cell_type": "code",
   "execution_count": null,
   "metadata": {},
   "outputs": [],
   "source": []
  }
 ],
 "metadata": {
  "kernelspec": {
   "display_name": "base",
   "language": "python",
   "name": "python3"
  },
  "language_info": {
   "codemirror_mode": {
    "name": "ipython",
    "version": 3
   },
   "file_extension": ".py",
   "mimetype": "text/x-python",
   "name": "python",
   "nbconvert_exporter": "python",
   "pygments_lexer": "ipython3",
   "version": "3.9.15 (main, Nov 24 2022, 14:39:17) [MSC v.1916 64 bit (AMD64)]"
  },
  "orig_nbformat": 4,
  "vscode": {
   "interpreter": {
    "hash": "42e34ec1a81382d7a35a13fd98192c35dabe0890684b7b0a474deec672e3df02"
   }
  }
 },
 "nbformat": 4,
 "nbformat_minor": 2
}
