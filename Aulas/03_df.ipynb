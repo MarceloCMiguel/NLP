{
 "cells": [
  {
   "attachments": {},
   "cell_type": "markdown",
   "metadata": {},
   "source": [
    "# Analisando coleções"
   ]
  },
  {
   "cell_type": "code",
   "execution_count": 1,
   "metadata": {},
   "outputs": [],
   "source": [
    "import matplotlib.pyplot as plt\n",
    "plt.style.use('default')\n",
    "import numpy as np\n",
    "import unidecode\n",
    "import urllib\n",
    "import string\n",
    "import re"
   ]
  },
  {
   "attachments": {},
   "cell_type": "markdown",
   "metadata": {},
   "source": [
    "## Exercício 1\n",
    "**Objetivo: encontrar stopwords**\n",
    "\n",
    "Até o momento, sabemos contar palavras únicas em um texto, e isso deveria levar a conclusões sobre o conteúdo do texto. Por exemplo, um texto em que a palavra \"gato\" aparece muitas vezes provavelmente se refere a gatos. Porém, nem todas as palavras que aparecem muitas vezes têm significado. \n",
    "\n",
    "As palavras que têm significado são aquelas que nos ajudam a entender do que o texto se trata. Por exemplo, no texto:\n",
    "\n",
    "*Ao nascer do Sol, o Rio Pinheiros em São Paulo ganha vida, despertando a cidade para um novo dia.*\n",
    "\n",
    "as palavras \"nascer do Sol\", Rio Pinheiros, São Paulo, ganha, vida, cidade, dia, etc, são importantes para entendermos o significado do que está sendo dito.\n",
    "\n",
    "Se trocarmos essas partes, teríamos uma frase que significa algo completamente diferente, como:\n",
    "\n",
    "*À noite, o Lago Ness na Escócia ganha uma atmosfera sombria, parecendo tomado de monstros.*\n",
    "\n",
    "Agora, temos outras palavras que trazem significado.\n",
    "\n",
    "Ao mesmo tempo, temos palavras que não trazem significado para a frase, como \"o\", \"a\",  \"um\", \"de\", \"uma\", etc.\n",
    "\n",
    "Essas palavras são, usualmente, muito comuns, porque são artigos, preposições, verbos de ligação, etc.\n",
    "\n",
    "Essas palavras são chamadas de *stopwords*, e o procedimento para encontrá-las é, geralmente, fazer uma lista delas.\n",
    "\n",
    "O código abaixo encontra uma lista de stopwords em português. Analise a lista e verifique se você concorda com as stopwords que foram colocadas."
   ]
  },
  {
   "cell_type": "code",
   "execution_count": 2,
   "metadata": {},
   "outputs": [
    {
     "name": "stdout",
     "output_type": "stream",
     "text": [
      "{'formos', 'somos', 'fomos', 'estavam', 'tenhamos', 'tinha', 'seria', 'fôssemos', 'temos', 'suas', 'deles', 'esses', 'quem', 'teus', 'dela', 'estivermos', 'houveriam', 'tiveram', 'estiveram', 'ter', 'hei', 'estivéramos', 'tenha', 'mesmo', 'esteja', 'tivermos', 'estiver', 'aquele', 'houverem', 'a', 'pelos', 'ao', 'terá', 'tenham', 'mais', 'tem', 'tivemos', 'seremos', 'vos', 'eram', 'houveríamos', 'dele', 'houver', 'das', 'isso', 'tém', 'minha', 'nas', 'estivéssemos', 'estejam', 'delas', 'seriam', 'são', 'tiver', 'têm', 'estes', 'pelas', 'hão', 'elas', 'houveram', 'na', 'em', 'qual', 'tivéramos', 'seríamos', 'uma', 'meu', 'para', 'muito', 'já', 'este', 'for', 'estas', 'tivessem', 'como', 'aquilo', 'terei', 'aquelas', 'fossem', 'não', 'estivera', 'minhas', 'e', 'teremos', 'meus', 'sejamos', 'aqueles', 'houverei', 'nossa', 'nosso', 'tu', 'o', 'sem', 'que', 'do', 'de', 'quando', 'estava', 'pelo', 'estiverem', 'estive', 'houvermos', 'foi', 'houvesse', 'ou', 'lhe', 'é', 'fora', 'seu', 'tivera', 'estivessem', 'hajam', 'estão', 'houveremos', 'com', 'aos', 'seus', 'foram', 'até', 'será', 'esta', 'houvera', 'essa', 'nossos', 'te', 'pela', 'houverão', 'lhes', 'seja', 'houverá', 'entre', 'tivéssemos', 'me', 'teu', 'estamos', 'eu', 'nos', 'nem', 'hajamos', 'tenho', 'vocês', 'fosse', 'tivesse', 'houve', 'as', 'forem', 'você', 'éramos', 'teriam', 'depois', 'esteve', 'eles', 'por', 'aquela', 'tiverem', 'tive', 'sua', 'essas', 'também', 'numa', 'tua', 'estávamos', 'havia', 'terão', 'nossas', 'mas', 'esse', 'tuas', 'à', 'os', 'houvéramos', 'estou', 'fôramos', 'um', 'estivemos', 'sou', 'houvemos', 'era', 'num', 'há', 'está', 'ele', 'estivesse', 'teríamos', 'se', 'às', 'serei', 'houvessem', 'da', 'dos', 'tínhamos', 'isto', 'serão', 'tinham', 'teve', 'teria', 'ser', 'fui', 'ela', 'no', 'estejamos', 'sejam', 'havemos', 'só', 'houveria', 'houvéssemos', 'nós', 'haja'}\n"
     ]
    }
   ],
   "source": [
    "url = \"https://gist.githubusercontent.com/alopes/5358189/raw/2107d809cca6b83ce3d8e04dbd9463283025284f/stopwords.txt\"\n",
    "stopwords_list = urllib.request.urlopen(url).read().decode()\n",
    "stopwords = set(stopwords_list.split())\n",
    "print(stopwords)"
   ]
  },
  {
   "attachments": {},
   "cell_type": "markdown",
   "metadata": {},
   "source": [
    "## Exercício 2\n",
    "**Objetivo: remover stopwords de uma frase**\n",
    "\n",
    "Faça um código computacional para remover da lista de tokens todas as stopwords da frase abaixo"
   ]
  },
  {
   "cell_type": "code",
   "execution_count": 3,
   "metadata": {},
   "outputs": [
    {
     "name": "stdout",
     "output_type": "stream",
     "text": [
      "['enquanto', 'houver', 'sol', 'haverão', 'aqueles', 'que', 'querem', 'se', 'banhar', 'ao', 'sol', 'e', 'se', 'fizer', 'chuva', 'uma', 'chuva', 'como', 'aquelas', 'que', 'inundam', 'a', 'cidade', 'vocês', 'é', 'que', 'se', 'virem', 'para', 'nadar']\n"
     ]
    }
   ],
   "source": [
    "frase = \"Enquanto houver Sol, haverão aqueles que querem se banhar ao Sol, e se fizer chuva - uma chuva como aquelas que inundam a cidade - vocês é que se virem para nadar!\"\n",
    "tokens = re.findall(r'\\b\\w+\\b', frase.lower())\n",
    "print(tokens)"
   ]
  },
  {
   "attachments": {},
   "cell_type": "markdown",
   "metadata": {},
   "source": [
    "## Exercício 3\n",
    "**Objetivo: usar um vetorizador para calcular TF**\n",
    "\n",
    "Podemos contar palavras em um texto. O número de vezes que uma palavra aparece em um texto é chamado de Term Frequency, ou TF. Por exemplo, na frase:\n",
    "\n",
    "*O Sol é sempre o Sol*,\n",
    "\n",
    "a palavra *Sol* tem $\\text{TF}=2$, ou, $\\text{TF(Sol)}=2$.\n",
    "\n",
    "Podemos contar palavras usando o procedimento que já conhecemos, usando dicionários, mas Python já tem bibliotecas para fazer isso por nós. Veja no exemplo:"
   ]
  },
  {
   "cell_type": "code",
   "execution_count": 11,
   "metadata": {},
   "outputs": [
    {
     "name": "stdout",
     "output_type": "stream",
     "text": [
      "[[1 2]]\n",
      "{'sol': 1, 'sempre': 0}\n"
     ]
    }
   ],
   "source": [
    "from sklearn.feature_extraction.text import CountVectorizer\n",
    "s = [\"O Sol é sempre o Sol!\"]\n",
    "vectorizer = CountVectorizer()\n",
    "x = vectorizer.fit_transform(s).todense()\n",
    "print(x)\n",
    "print(vectorizer.vocabulary_)"
   ]
  },
  {
   "attachments": {},
   "cell_type": "markdown",
   "metadata": {},
   "source": [
    "a) Por que nem toda palavra da frase está em `vectorizer.vocabulary_`?\n",
    "\n",
    "b) A variável `x` é uma matriz com `N` linhas e `K` colunas. O que significa cada linha e coluna dessa matriz?\n",
    "\n",
    "c) Como `vectorizer.vocabulary_` se relaciona com a matriz `x`?\n",
    "\n",
    "d) `s`  é uma lista de strings. Adicione mais uma string (faça uma frase à sua escolha) na lista. Como isso altera `x` `vectorizer.vocabulary_`?"
   ]
  },
  {
   "attachments": {},
   "cell_type": "markdown",
   "metadata": {},
   "source": [
    "## Exercício 4\n",
    "**Objetivo: calcular palavras frequentes ao longo de coleções**\n",
    "\n",
    "Usando os resultados do `CountVectorizer`, calcule o TF das palavras em cada uma das frases abaixo:"
   ]
  },
  {
   "cell_type": "code",
   "execution_count": 15,
   "metadata": {},
   "outputs": [
    {
     "name": "stdout",
     "output_type": "stream",
     "text": [
      "[[0 0 0 0 0 0 0 0 0 0 0 0 1 0 0 0 0 0 1 0 0 0 0 0 0 0 0 0 0 0 0 0 0 1 1 0\n",
      "  0 0 0 0 1 0 0 0 0 0 0 0 0 0 0]\n",
      " [1 0 0 0 1 0 0 0 0 0 0 0 0 0 0 0 1 0 0 0 0 0 0 0 1 0 0 1 0 0 0 0 0 0 0 0\n",
      "  0 0 0 1 1 0 0 0 0 0 0 0 0 0 0]\n",
      " [0 0 0 0 0 0 0 0 0 1 0 0 0 0 0 1 0 0 0 0 0 0 0 0 0 0 1 0 0 1 0 1 0 0 1 0\n",
      "  0 0 0 0 0 0 0 0 0 0 0 0 1 1 0]\n",
      " [0 0 1 0 1 0 0 0 1 0 0 1 0 0 0 0 0 0 0 0 0 0 1 0 0 0 0 0 0 0 0 0 0 0 0 0\n",
      "  0 0 0 0 0 0 0 0 0 0 0 1 0 0 0]\n",
      " [0 0 0 0 0 0 0 0 0 0 0 0 0 0 0 1 0 1 0 0 0 0 0 1 0 1 0 0 0 0 0 0 0 1 1 1\n",
      "  0 0 0 0 0 0 0 1 0 0 0 0 2 0 0]\n",
      " [0 0 0 1 0 1 0 0 0 0 0 0 0 0 0 0 1 0 0 0 0 1 0 0 0 0 0 0 0 0 0 0 0 0 0 0\n",
      "  0 1 0 0 0 0 1 0 1 0 0 0 0 0 1]\n",
      " [1 0 0 0 0 0 0 1 0 0 1 0 0 0 0 1 0 1 0 0 0 0 0 0 0 0 0 0 0 0 0 0 1 0 1 0\n",
      "  0 0 0 0 0 1 0 0 0 0 0 0 1 0 0]\n",
      " [0 1 0 1 1 0 0 0 0 0 0 1 0 1 0 0 0 0 0 0 0 0 1 0 0 0 0 0 0 0 1 0 0 0 0 0\n",
      "  0 0 0 0 0 0 0 0 0 0 0 0 0 0 0]\n",
      " [0 0 0 0 0 0 1 0 0 0 0 0 0 0 1 1 0 0 0 1 0 0 0 0 0 0 1 0 1 0 0 0 0 0 1 0\n",
      "  0 0 0 0 0 0 0 0 0 1 0 0 1 1 0]\n",
      " [0 0 0 0 0 0 0 0 0 0 1 0 0 0 0 1 0 0 0 0 1 0 0 0 0 0 0 0 0 0 0 0 0 1 1 0\n",
      "  1 0 1 0 0 0 0 0 0 0 1 0 1 0 0]]\n",
      "{'que': 33, 'delícia': 12, 'esse': 18, 'sol': 40, 'quente': 34, 'adoro': 0, 'sentir': 39, 'calor': 4, 'do': 16, 'na': 24, 'pele': 27, 'um': 48, 'dia': 15, 'perfeito': 29, 'para': 26, 'curtir': 9, 'uma': 49, 'piscina': 31, 'deixa': 11, 'tudo': 47, 'mais': 22, 'animado': 2, 'colorido': 8, 'nada': 25, 'melhor': 23, 'sorvete': 43, 'refrescante': 35, 'em': 17, 'as': 3, 'roupas': 37, 'leves': 21, 'soltinhas': 42, 'são': 44, 'cara': 5, 'verão': 50, 'cheiro': 7, 'de': 10, 'protetor': 32, 'solar': 41, 'pessoas': 30, 'alegres': 1, 'descontraídas': 13, 'desculpa': 14, 'perfeita': 28, 'tomar': 45, 'cerveja': 6, 'gelada': 19, 'sensação': 38, 'relaxamento': 36, 'traz': 46, 'incomparável': 20}\n"
     ]
    }
   ],
   "source": [
    "frases = [\n",
    "    \"Que delícia esse sol quente!\",\n",
    "    \"Adoro sentir o calor do sol na pele!\",\n",
    "    \"Um dia quente é perfeito para curtir uma piscina!\",\n",
    "    \"O calor deixa tudo mais animado e colorido!\",\n",
    "    \"Nada melhor que um sorvete refrescante em um dia quente!\",\n",
    "    \"As roupas leves e soltinhas são a cara do verão!\",\n",
    "    \"Adoro o cheiro de protetor solar em um dia quente!\",\n",
    "    \"O calor deixa as pessoas mais alegres e descontraídas!\",\n",
    "    \"Um dia quente é a desculpa perfeita para tomar uma cerveja gelada!\",\n",
    "    \"A sensação de relaxamento que um dia quente traz é incomparável!\"\n",
    "]\n",
    "\n",
    "v = CountVectorizer()\n",
    "x = v.fit_transform(frases).todense()\n",
    "print(x)\n",
    "print(v.vocabulary_)"
   ]
  },
  {
   "attachments": {},
   "cell_type": "markdown",
   "metadata": {},
   "source": [
    "## Exercício 5\n",
    "**Objetivo: usar CountVectorizer para calcular o Document Frequency**\n",
    "\n",
    "Dentro de uma coleção, às vezes, temos palavras que não são necessariamente stop words, mas que são bastante comuns. Por exemplo, em resumos de artigos científicos é comum lermos a frase: \"este artigo discute...\". Então, naturalmente, a palavra *artigo* aparece muitas vezes no texto, embora, dentro daquela coleção específica, ela não seja determinante do significado.\n",
    "\n",
    "Nas frases do exercício acima, quais palavras (excluindo as stopwords) aparecem em mais textos? DICA: comece com o código abaixo e verifique o que significa o parâmetro `binary=True`."
   ]
  },
  {
   "cell_type": "code",
   "execution_count": 27,
   "metadata": {},
   "outputs": [
    {
     "name": "stdout",
     "output_type": "stream",
     "text": [
      "[[2 1 1 2 3 1 1 1 1 1 2 2 1 1 1 5 2 2 1 1 1 1 2 1 1 1 2 1 1 1 1 1 1 3 6 1\n",
      "  1 1 1 1 2 1 1 1 1 1 1 1 5 2 1]]\n"
     ]
    }
   ],
   "source": [
    "vectorizer = CountVectorizer(binary=True)\n",
    "x_binary = vectorizer.fit_transform(frases).todense()\n",
    "\n",
    "d = x_binary.sum(axis=0)\n",
    "print(d)"
   ]
  },
  {
   "attachments": {},
   "cell_type": "markdown",
   "metadata": {},
   "source": [
    "## Exercício 6\n",
    "**Objetivo: relacionar TF e DF a suas representações probabilísticas**\n",
    "\n",
    "As definições matemáticas abaixo se relacionam a DF ou a TF. Qual delas representa TF, e qual representa DF?\n",
    "\n",
    "* $P(\\text{palavra escolhida é X}| \\text{escolhi palavra aleatória em um texto})$\n",
    "* $P(\\text{texto contém palavra X}| \\text{escolhi texto aleatório em uma coleção})$"
   ]
  },
  {
   "cell_type": "code",
   "execution_count": null,
   "metadata": {},
   "outputs": [],
   "source": []
  },
  {
   "attachments": {},
   "cell_type": "markdown",
   "metadata": {},
   "source": [
    "## Exercício 7\n",
    "**Objetivo: Analisar P(palavras|coleção)**\n",
    "\n",
    "O código abaixo faz um plot da probabilidade de encontrar cada palavra se uma frase aleatória da coleção de frases for escolhida (isto é: $P(w | c)$, ou, probabilidade de encontrar a palavra dada a coleção).\n",
    "\n",
    "a) Analise o código e pergunte o significado de todas as partes que você não entender.\n",
    "\n",
    "b) Analisando o gráfico gerado, quais seriam palavras que você tipicamente usaria para falar que está gostando de um dia de calor?\n",
    "\n",
    "c) Após, faça um gráfico semelhante para as frases negativas sobre o calor que estão abaixo. Os mesmos tipos de palavras são usados?"
   ]
  },
  {
   "cell_type": "code",
   "execution_count": 30,
   "metadata": {},
   "outputs": [
    {
     "data": {
      "image/png": "[encoded data removed]",
      "text/plain": [
       "<Figure size 1400x300 with 1 Axes>"
      ]
     },
     "metadata": {},
     "output_type": "display_data"
    }
   ],
   "source": [
    "vectorizer = CountVectorizer(binary=True)\n",
    "x = vectorizer.fit_transform(frases).todense()\n",
    "x = np.mean(x, axis=0)\n",
    "\n",
    "tuplas = [ (x[0,vectorizer.vocabulary_[i]], i) for i in vectorizer.vocabulary_.keys() ]\n",
    "tuplas_ordenadas = sorted(tuplas, reverse=True)\n",
    "palavras = [ t[1] for t in tuplas_ordenadas ]\n",
    "contagens = [ t[0] for t in tuplas_ordenadas ]\n",
    "\n",
    "n_palavras = 20\n",
    "eixo_x = np.arange(n_palavras)\n",
    "plt.figure(figsize=(14,3))\n",
    "plt.bar(eixo_x[0:n_palavras], contagens[0:n_palavras])\n",
    "plt.xticks(eixo_x[0:n_palavras], palavras[0:n_palavras], rotation=45)\n",
    "plt.show()"
   ]
  },
  {
   "cell_type": "code",
   "execution_count": 32,
   "metadata": {},
   "outputs": [],
   "source": [
    "frases_negativas = [\n",
    "    \"Este calor está insuportável!\",\n",
    "    \"Eu não aguento mais suar o dia inteiro.\",\n",
    "    \"Não dá nem vontade de sair de casa com esse sol quente.\",\n",
    "    \"O ar-condicionado não dá conta de refrescar o ambiente.\",\n",
    "    \"Até o ventilador parece não estar funcionando direito hoje.\",\n",
    "    \"Eu odeio dias assim, prefiro o frio mil vezes!\",\n",
    "    \"Não tem um lugar com sombra nessa cidade?\",\n",
    "    \"Essa roupa colada no corpo me incomoda demais.\",\n",
    "    \"Quero chuva, quero frio, quero qualquer coisa, menos esse sol na minha cabeça!\",\n",
    "    \"Já acabou o verão? Porque eu não aguento mais esse calor infernal.\"\n",
    "]"
   ]
  },
  {
   "attachments": {},
   "cell_type": "markdown",
   "metadata": {},
   "source": [
    "## Exercício 8\n",
    "**Objetivo: comparar coleções baseado nas palavras usadas**\n",
    "\n",
    "O dataset `IMDB` possui reviews de filmes classificados como positivos e como negativos.\n",
    "\n",
    "Faça uma figura mostrando as palavras que são tipicamente usadas em reviews positivas e em reviews negativas."
   ]
  },
  {
   "cell_type": "code",
   "execution_count": 33,
   "metadata": {},
   "outputs": [
    {
     "data": {
      "text/html": [
       "<div>\n",
       "<style scoped>\n",
       "    .dataframe tbody tr th:only-of-type {\n",
       "        vertical-align: middle;\n",
       "    }\n",
       "\n",
       "    .dataframe tbody tr th {\n",
       "        vertical-align: top;\n",
       "    }\n",
       "\n",
       "    .dataframe thead th {\n",
       "        text-align: right;\n",
       "    }\n",
       "</style>\n",
       "<table border=\"1\" class=\"dataframe\">\n",
       "  <thead>\n",
       "    <tr style=\"text-align: right;\">\n",
       "      <th></th>\n",
       "      <th>review</th>\n",
       "      <th>sentiment</th>\n",
       "    </tr>\n",
       "  </thead>\n",
       "  <tbody>\n",
       "    <tr>\n",
       "      <th>0</th>\n",
       "      <td>One of the other reviewers has mentioned that ...</td>\n",
       "      <td>positive</td>\n",
       "    </tr>\n",
       "    <tr>\n",
       "      <th>1</th>\n",
       "      <td>A wonderful little production. &lt;br /&gt;&lt;br /&gt;The...</td>\n",
       "      <td>positive</td>\n",
       "    </tr>\n",
       "    <tr>\n",
       "      <th>2</th>\n",
       "      <td>I thought this was a wonderful way to spend ti...</td>\n",
       "      <td>positive</td>\n",
       "    </tr>\n",
       "    <tr>\n",
       "      <th>3</th>\n",
       "      <td>Basically there's a family where a little boy ...</td>\n",
       "      <td>negative</td>\n",
       "    </tr>\n",
       "    <tr>\n",
       "      <th>4</th>\n",
       "      <td>Petter Mattei's \"Love in the Time of Money\" is...</td>\n",
       "      <td>positive</td>\n",
       "    </tr>\n",
       "  </tbody>\n",
       "</table>\n",
       "</div>"
      ],
      "text/plain": [
       "                                              review sentiment\n",
       "0  One of the other reviewers has mentioned that ...  positive\n",
       "1  A wonderful little production. <br /><br />The...  positive\n",
       "2  I thought this was a wonderful way to spend ti...  positive\n",
       "3  Basically there's a family where a little boy ...  negative\n",
       "4  Petter Mattei's \"Love in the Time of Money\" is...  positive"
      ]
     },
     "execution_count": 33,
     "metadata": {},
     "output_type": "execute_result"
    }
   ],
   "source": [
    "import pandas as pd\n",
    "\n",
    "df = pd.read_csv('./datasets/IMDB Dataset.csv')\n",
    "df.head()"
   ]
  },
  {
   "cell_type": "code",
   "execution_count": null,
   "metadata": {},
   "outputs": [],
   "source": []
  }
 ],
 "metadata": {
  "kernelspec": {
   "display_name": "Python 3",
   "language": "python",
   "name": "python3"
  },
  "language_info": {
   "codemirror_mode": {
    "name": "ipython",
    "version": 3
   },
   "file_extension": ".py",
   "mimetype": "text/x-python",
   "name": "python",
   "nbconvert_exporter": "python",
   "pygments_lexer": "ipython3",
   "version": "3.10.6"
  },
  "orig_nbformat": 4,
  "vscode": {
   "interpreter": {
    "hash": "916dbcbb3f70747c44a77c7bcd40155683ae19c65e1c03b4aa3499c5328201f1"
   }
  }
 },
 "nbformat": 4,
 "nbformat_minor": 2
}
